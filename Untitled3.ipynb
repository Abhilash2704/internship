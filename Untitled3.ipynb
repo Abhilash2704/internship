{
 "cells": [
  {
   "cell_type": "code",
   "execution_count": 5,
   "id": "cf9e518f",
   "metadata": {},
   "outputs": [
    {
     "name": "stdout",
     "output_type": "stream",
     "text": [
      "Enter a natural number = 4\n",
      "factorial of  4  is  24\n"
     ]
    }
   ],
   "source": [
    "n = int(input(\"Enter a natural number = \"))\n",
    "x = 1\n",
    "if n == 0:\n",
    "    print(\"0! = 1\")\n",
    "else:\n",
    "    for  i in range(1,n+1):\n",
    "        x*=i\n",
    "    print(\"factorial of \",n,\" is \",x) "
   ]
  },
  {
   "cell_type": "code",
   "execution_count": 2,
   "id": "37e5f1bf",
   "metadata": {},
   "outputs": [
    {
     "name": "stdout",
     "output_type": "stream",
     "text": [
      "Enter a natural number7165781617809431\n",
      "7165781617809431  is a composite number\n"
     ]
    }
   ],
   "source": [
    "n = int(input(\"Enter a natural number\"))\n",
    "if n == 0 or n == 1:\n",
    "    print(n,\" is neither prime nor composite\")\n",
    "for i in range(2,(n+1)//2):\n",
    "    if (n%i) == 0:\n",
    "        print(n,\" is a composite number\")\n",
    "        break\n",
    "else:\n",
    "    print(n,\" is a prime number\")"
   ]
  },
  {
   "cell_type": "code",
   "execution_count": 2,
   "id": "54a5bcc0",
   "metadata": {},
   "outputs": [
    {
     "name": "stdout",
     "output_type": "stream",
     "text": [
      "('Hypotenuse = ', '13.0')\n",
      "('Opposite side = ', '12.0')\n",
      "('Adjacent side = ', '5.0')\n"
     ]
    }
   ],
   "source": [
    "import math\n",
    "def rt_tri(adj_side,opp_side,hypo):\n",
    "    if adj_side == str('x'):\n",
    "        return(\"Adjacent side = \",str(math.sqrt(hypo**2-opp_side**2)))\n",
    "    elif opp_side == str('x'):\n",
    "        return(\"Opposite side = \",str(math.sqrt(hypo**2-adj_side**2)))\n",
    "    elif hypo == str('x'):\n",
    "        return(\"Hypotenuse = \", str(math.sqrt(adj_side**2+opp_side**2)))\n",
    "    else:\n",
    "        print(\"All sides are known\")\n",
    "\n",
    "print(rt_tri(5,12,'x'))\n",
    "print(rt_tri(5,'x',13))\n",
    "print(rt_tri('x',12,13))"
   ]
  },
  {
   "cell_type": "code",
   "execution_count": 4,
   "id": "83f27404",
   "metadata": {},
   "outputs": [
    {
     "name": "stdout",
     "output_type": "stream",
     "text": [
      "Enter String :abcdcba\n",
      "The entered string is a palindrome\n"
     ]
    }
   ],
   "source": [
    "str = input(\"Enter String :\")\n",
    "rev_str = \"\"\n",
    "\n",
    "for i in str:\n",
    "    rev_str = i + rev_str\n",
    "    \n",
    "if(str == rev_str):\n",
    "    print(\"The entered string is a palindrome\")\n",
    "else:\n",
    "    print(\"The entered string is not a palindrome\")\n",
    "    "
   ]
  },
  {
   "cell_type": "code",
   "execution_count": 11,
   "id": "8d017cbc",
   "metadata": {},
   "outputs": [
    {
     "name": "stdout",
     "output_type": "stream",
     "text": [
      "Count of letters is \n",
      " {'M': 1, 'a': 4, 't': 5, 'h': 1, 'e': 1, 'm': 1, 'i': 3, 'c': 2, 's': 3, 'n': 1, 'd': 1, 'S': 1}\n"
     ]
    }
   ],
   "source": [
    "test_str = \"MathematicsandStatistics\"\n",
    "\n",
    "freq = {}\n",
    "\n",
    "for i in test_str:\n",
    "    if i in freq:\n",
    "        freq[i] += 1\n",
    "    else:\n",
    "        freq[i] = 1\n",
    "\n",
    "print('Count of letters is \\n', freq)"
   ]
  },
  {
   "cell_type": "code",
   "execution_count": null,
   "id": "4a03acd6",
   "metadata": {},
   "outputs": [],
   "source": []
  }
 ],
 "metadata": {
  "kernelspec": {
   "display_name": "Python 3 (ipykernel)",
   "language": "python",
   "name": "python3"
  },
  "language_info": {
   "codemirror_mode": {
    "name": "ipython",
    "version": 3
   },
   "file_extension": ".py",
   "mimetype": "text/x-python",
   "name": "python",
   "nbconvert_exporter": "python",
   "pygments_lexer": "ipython3",
   "version": "3.11.5"
  }
 },
 "nbformat": 4,
 "nbformat_minor": 5
}
